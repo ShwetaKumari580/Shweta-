{
 "cells": [
  {
   "cell_type": "markdown",
   "metadata": {},
   "source": [
    "# ASSIGNMENT - 1"
   ]
  },
  {
   "cell_type": "markdown",
   "metadata": {},
   "source": [
    "### 1.\tRamesh’s basic salary is input through the keyboard. His dearness allowance is 40% of basic salary, and house rent allowance is 20% of basic salary. Write a program to calculate his gross salary."
   ]
  },
  {
   "cell_type": "code",
   "execution_count": 28,
   "metadata": {},
   "outputs": [
    {
     "name": "stdout",
     "output_type": "stream",
     "text": [
      "basic salary: 5000\n",
      "Ramesh's Gross Salary is 8000\n"
     ]
    }
   ],
   "source": [
    "x=int(input(\"basic salary: \"))                   #Asking user to input the numerical values for Ramesh's Salary.\n",
    "y=int(x*40/100)                                  #DA-40% of basic salary\n",
    "z=int(x*20/100)                                  #HRA -20% of basic salary\n",
    "Gross_Sal= x+y+z                                 #Adding Ramesh's Basic Salary + DA + HRA\n",
    "print(\"Ramesh's Gross Salary is\", Gross_Sal)     #Printing Ramesh's Gross Salary."
   ]
  },
  {
   "cell_type": "markdown",
   "metadata": {},
   "source": [
    "### 2. The distance between two cities (in km.) is input through the keyboard. Write a program to convert and print this distance in meters, feet, inches and centimeters."
   ]
  },
  {
   "cell_type": "code",
   "execution_count": 29,
   "metadata": {},
   "outputs": [
    {
     "name": "stdout",
     "output_type": "stream",
     "text": [
      "Name of City 1: DELHI\n",
      "Name of City 2: SONIPAT\n",
      "Distance between City 1 and City 2 (in KMs): 80\n",
      "The Distance between DELHI and SONIPAT is 80000 meters or 262467.2 feet or 8000000 centimeters\n"
     ]
    }
   ],
   "source": [
    "x=input(\"Name of City 1: \")                             #x= Name of City 1\n",
    "y=input(\"Name of City 2: \")                             #y= Name of City 2                \n",
    "z=int(input(\"Distance between City 1 and City 2 (in KMs): \"))          #Asking for Distance between City 1 & City 2.\n",
    "print(\"The Distance between\",x,\"and\",y, \"is\", z*1000, \"meters or\", z*3280.84, \"feet or\", z*100000, \"centimeters\" )    "
   ]
  },
  {
   "cell_type": "markdown",
   "metadata": {},
   "source": [
    "### 3.\tIf the marks obtained by a student in five different subjects are input through the keyboard, find out the aggregate marks and percentage marks obtained by the student. Assume that the maximum marks that can be obtained by a student in each subject is 100."
   ]
  },
  {
   "cell_type": "code",
   "execution_count": 22,
   "metadata": {},
   "outputs": [
    {
     "name": "stdout",
     "output_type": "stream",
     "text": [
      "Marks obtained in Maths(MM:100): 45\n",
      "Marks obtained in Maths(MM:100): 52\n",
      "Marks obtained in Maths(MM:100): 84\n",
      "Marks obtained in Maths(MM:100): 89\n",
      "Marks obtained in Maths(MM:100): 99\n",
      "Aggregate Marks:  369\n",
      "Percentage Marks Obtained:  73.8\n"
     ]
    }
   ],
   "source": [
    "m1=int(input(\"Marks obtained in Maths(MM:100): \"))   \n",
    "m2=int(input(\"Marks obtained in Maths(MM:100): \"))\n",
    "m3=int(input(\"Marks obtained in Maths(MM:100): \"))\n",
    "m4=int(input(\"Marks obtained in Maths(MM:100): \"))\n",
    "m5=int(input(\"Marks obtained in Maths(MM:100): \"))\n",
    "Total= m1+m2+m3+m4+m5\n",
    "print(\"Aggregate Marks: \" , Total)\n",
    "print(\"Percentage Marks Obtained: \", (Total/5))"
   ]
  },
  {
   "cell_type": "markdown",
   "metadata": {},
   "source": [
    "### 4.\tTemperature of a city in Fahrenheit degrees is input through the keyboard. Write a program to convert this temperature into Centigrade degrees."
   ]
  },
  {
   "cell_type": "code",
   "execution_count": 27,
   "metadata": {
    "scrolled": true
   },
   "outputs": [
    {
     "name": "stdout",
     "output_type": "stream",
     "text": [
      "Name of the City: dfds\n",
      "Temperature in Faranheit: 98\n",
      "Temperature of  98 is  36.666666666666664 degree celcius.\n"
     ]
    }
   ],
   "source": [
    "input(\"Name of the City: \")\n",
    "x=int(input(\"Temperature in Faranheit: \"))\n",
    "print(\"Temperature of \",x ,\"is \", (x-32)*5/9  , \"degree celcius.\")"
   ]
  },
  {
   "cell_type": "markdown",
   "metadata": {},
   "source": [
    "### 5.\tThe length & breadth of a rectangle and radius of a circle are input through the keyboard. Write a program to calculate the area & perimeter of the rectangle, and the area & circumference of the circle."
   ]
  },
  {
   "cell_type": "code",
   "execution_count": 28,
   "metadata": {},
   "outputs": [
    {
     "name": "stdout",
     "output_type": "stream",
     "text": [
      "Length of rectangle: 2\n",
      "Breadth of rectangle: 5\n",
      "Radius of a circle: 5\n",
      "The Permeter of the Rectangle is 14\n",
      "The Area of the Rectangle is 10\n",
      "The Circumference of the Circle is 31.400000000000002\n",
      "The Area of the Circle is 78 2\n"
     ]
    }
   ],
   "source": [
    "x=int(input(\"Length of rectangle: \"))\n",
    "y=int(input(\"Breadth of rectangle: \"))\n",
    "z=int(input(\"Radius of a circle: \"))\n",
    "print(\"The Permeter of the Rectangle is\", 2*(x+y) )            #Calculating  & Printing Perimeter of the Rectangle.\n",
    "print(\"The Area of the Rectangle is\", x*y)                     #Calculating  & Printing Area of the Rectangle.\n",
    "print(\"The Circumference of the Circle is\", 2*3.14*z )         #Calculating  & Printing the Circumference of the Circle.\n",
    "print(\"The Area of the Circle is\", 3.14*z*z)                   #Calculating  & Printing the Area of the Circle."
   ]
  },
  {
   "cell_type": "markdown",
   "metadata": {},
   "source": [
    "### 6.\tTwo numbers are input through the keyboard into two locations C and D. Write a program to interchange the contents of C and D."
   ]
  },
  {
   "cell_type": "code",
   "execution_count": 29,
   "metadata": {},
   "outputs": [
    {
     "name": "stdout",
     "output_type": "stream",
     "text": [
      "Number at Location C: 2\n",
      "Number at Location D: 5\n",
      "Number at location C is 5\n",
      "Number at location d is 2\n"
     ]
    }
   ],
   "source": [
    "C=int(input(\"Number at Location C: \"))\n",
    "D=int(input(\"Number at Location D: \"))\n",
    "print(\"Number at location C is\", D)\n",
    "print(\"Number at location d is\", C)"
   ]
  },
  {
   "cell_type": "markdown",
   "metadata": {},
   "source": [
    "### 7.\tIf a five-digit number is input through the keyboard, write a program to reverse the number."
   ]
  },
  {
   "cell_type": "code",
   "execution_count": 23,
   "metadata": {},
   "outputs": [
    {
     "name": "stdout",
     "output_type": "stream",
     "text": [
      "Enter a 5-digit number: 12345\n",
      "Reverse of the number: 54321\n"
     ]
    }
   ],
   "source": [
    "x=int(input(\"Enter a 5-digit number: \"))              #Prompting user to input a 5-digit number.\n",
    "l1=x%10\n",
    "l2=int(x/10)%10\n",
    "l3=int(x/100)%10\n",
    "l4=int(x/1000)%10\n",
    "l5=int(x/10000)%10\n",
    "print(\"Reverse of the number: \", l1,l2,l3,l4,l5,sep='')"
   ]
  },
  {
   "cell_type": "markdown",
   "metadata": {},
   "source": [
    "## OR"
   ]
  },
  {
   "cell_type": "code",
   "execution_count": 25,
   "metadata": {},
   "outputs": [
    {
     "name": "stdout",
     "output_type": "stream",
     "text": [
      "Enter a 5-digit number: 24563\n",
      "36542\n"
     ]
    }
   ],
   "source": [
    "x=int(input(\"Enter a 5-digit number: \"))    #Prompting user to input a 5-digit number.\n",
    "rev = 0\n",
    "  \n",
    "while(x > 0):                               #using While loop to reverse the digits of the user input number.\n",
    "    a = x % 10\n",
    "    rev = rev * 10 + a \n",
    "    x = x // 10\n",
    "      \n",
    "print(rev) "
   ]
  },
  {
   "cell_type": "markdown",
   "metadata": {},
   "source": [
    "### 8.\tIf a four-digit number is input through the keyboard, write a program to obtain the sum of the first and last digit of this number."
   ]
  },
  {
   "cell_type": "code",
   "execution_count": 13,
   "metadata": {},
   "outputs": [
    {
     "name": "stdout",
     "output_type": "stream",
     "text": [
      "Enter a 4-digit number: 12345\n",
      "7\n"
     ]
    }
   ],
   "source": [
    "x=int(input(\"Enter a 4-digit number: \"))\n",
    "l1=x%10\n",
    "l2=(x/10)%10\n",
    "l3=(x/100)%10\n",
    "l4=(x/1000)%10\n",
    "print(int(l1)+int(l4))    #printing the sum of first and last digit of this number."
   ]
  },
  {
   "cell_type": "markdown",
   "metadata": {},
   "source": [
    "### 9. In a town, the percentage of men is 52. The percentage of total literacy is 48. If total percentage of literate men is 35 of the total population, write a program to find the total number of illiterate men and women if the population of the town is 80,000."
   ]
  },
  {
   "cell_type": "code",
   "execution_count": 14,
   "metadata": {},
   "outputs": [
    {
     "name": "stdout",
     "output_type": "stream",
     "text": [
      "Total No. of Men=  41600.0\n",
      "total No. of Women=  38400.0\n",
      "Total no. of Literates=  38400.0\n",
      "Literate Men=  28000.0\n",
      "Literate Women=  10400.0\n",
      "Illiterate Men=  13600.0\n",
      "Illiterate Women=  28000.0\n"
     ]
    }
   ],
   "source": [
    "p=80000                     #Total Population\n",
    "m=52/100*(p)                #Total No. of Men\n",
    "wm=48/100*(p)               #total No. of Women\n",
    "l=48/100*(p)                #Total no. of Literates                 \n",
    "lm=35/100*(p)               #Literate Men               \n",
    "lwm=l-lm                    #Literate Women \n",
    "print(\"Total No. of Men= \",m)\n",
    "print(\"total No. of Women= \",wm)\n",
    "print(\"Total no. of Literates= \",l)\n",
    "print(\"Literate Men= \",lm)\n",
    "print(\"Literate Women= \",lwm)\n",
    "print(\"Illiterate Men= \",m-lm)\n",
    "print(\"Illiterate Women= \",wm-lwm)\n"
   ]
  },
  {
   "cell_type": "markdown",
   "metadata": {},
   "source": [
    "### 10. A cashier has currency notes of denominations 10, 50 and 100. If the amount to be withdrawn is input through the keyboard in hundreds, find the total number of currency notes of each denomination the cashier will have to give to the withdrawer."
   ]
  },
  {
   "cell_type": "code",
   "execution_count": 20,
   "metadata": {},
   "outputs": [
    {
     "name": "stdout",
     "output_type": "stream",
     "text": [
      "Amount to be withdrawn (upto Rs.990) 560\n",
      "No. of Notes of Rs. 100 Denomination:  5\n",
      "No. of Notes of Rs. 50 Denomination:  1\n",
      "No. of Notes of Rs. 10 Denomination:  1\n"
     ]
    }
   ],
   "source": [
    "x=int(input(\"Amount to be withdrawn (upto Rs.990) \"))        \n",
    "print(\"No. of Notes of Rs. 100 Denomination: \", int((x/100)%10) )\n",
    "print(\"No. of Notes of Rs. 50 Denomination: \", int((int((x/10)%10))/5 ))\n",
    "print(\"No. of Notes of Rs. 10 Denomination: \", (int((x/10)%10)-5) )"
   ]
  },
  {
   "cell_type": "markdown",
   "metadata": {},
   "source": [
    "**THE END**"
   ]
  }
 ],
 "metadata": {
  "kernelspec": {
   "display_name": "Python 3",
   "language": "python",
   "name": "python3"
  },
  "language_info": {
   "codemirror_mode": {
    "name": "ipython",
    "version": 3
   },
   "file_extension": ".py",
   "mimetype": "text/x-python",
   "name": "python",
   "nbconvert_exporter": "python",
   "pygments_lexer": "ipython3",
   "version": "3.8.3"
  }
 },
 "nbformat": 4,
 "nbformat_minor": 4
}
